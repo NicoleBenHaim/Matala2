{
 "cells": [
  {
   "cell_type": "code",
   "execution_count": 1,
   "id": "9ce8f9b8-866b-4f91-a8ce-4cbdd7c95852",
   "metadata": {},
   "outputs": [],
   "source": [
    "import pandas as pd\n",
    "import numpy as np \n",
    "import matplotlib.pyplot as plt\n",
    "import seaborn as sns\n",
    "%matplotlib inline\n",
    "import re\n",
    "import datetime"
   ]
  },
  {
   "cell_type": "code",
   "execution_count": 2,
   "id": "7a518f44-8aeb-4f4e-a30d-132bef6b6070",
   "metadata": {},
   "outputs": [
    {
     "name": "stderr",
     "output_type": "stream",
     "text": [
      "c:\\users\\user\\appdata\\local\\programs\\python\\python39\\lib\\site-packages\\IPython\\core\\interactiveshell.py:3441: DtypeWarning: Columns (6) have mixed types.Specify dtype option on import or set low_memory=False.\n",
      "  exec(code_obj, self.user_global_ns, self.user_ns)\n"
     ]
    }
   ],
   "source": [
    "dataF = pd.read_csv(\"matala2_cosmetics_2019-Nov2.csv\")\n",
    "data = dataF[0:200].copy()"
   ]
  },
  {
   "cell_type": "markdown",
   "id": "ffa891af-1735-498f-b4bf-8176213432d1",
   "metadata": {},
   "source": [
    "---"
   ]
  },
  {
   "cell_type": "markdown",
   "id": "007514e9-0408-4516-9930-1a5989377539",
   "metadata": {},
   "source": [
    "Q1"
   ]
  },
  {
   "cell_type": "code",
   "execution_count": 3,
   "id": "59db9ce4-1027-4109-8181-4f0c0eaf100b",
   "metadata": {},
   "outputs": [],
   "source": [
    "data['event_time']= pd.to_datetime(data['event_time'])"
   ]
  },
  {
   "cell_type": "code",
   "execution_count": 4,
   "id": "dbade5ae-ff70-47ca-a86f-8ad914b7a54f",
   "metadata": {},
   "outputs": [],
   "source": [
    "data['DateTime'] = pd.to_datetime(data['event_time'], format='%Y-%m-%d %H:%M:%S.%f')\n",
    "data['Date'] = pd.to_datetime(data['DateTime'].dt.date)\n",
    "data['Time'] = pd.to_datetime(data['DateTime'].dt.time, format='%H:%M:%S')"
   ]
  },
  {
   "cell_type": "code",
   "execution_count": 5,
   "id": "e1eaa4af-e54b-47c5-a48f-a312390ad129",
   "metadata": {},
   "outputs": [],
   "source": [
    "data['Time2'] = data.groupby(['user_session'])['Time'].shift(-1).fillna(data['Time'])\n",
    "data['duration_to_next_event'] = (data['Time2']- data['Time']).dt.seconds"
   ]
  },
  {
   "cell_type": "markdown",
   "id": "0788a6b7-1047-4539-96d3-9ccbe565d5a4",
   "metadata": {},
   "source": [
    "----"
   ]
  },
  {
   "cell_type": "markdown",
   "id": "94966f28-8ad7-47be-92bc-ba3a88071617",
   "metadata": {},
   "source": [
    "Q2"
   ]
  },
  {
   "cell_type": "code",
   "execution_count": 6,
   "id": "5ab1a9dd-d9f7-4c72-a887-b0140c0d73e5",
   "metadata": {},
   "outputs": [],
   "source": [
    "data['Date2'] = data.groupby(['user_id'])['Date'].shift(1).fillna(data['Date']) # fillna for the first visit"
   ]
  },
  {
   "cell_type": "code",
   "execution_count": 7,
   "id": "d441a156-8b49-4b30-8c62-78e97d01017e",
   "metadata": {},
   "outputs": [],
   "source": [
    "data['0_1'] = (data['Date'] - data['Date2']).dt.days.apply(lambda x: 1 if x > 5 else 0)"
   ]
  },
  {
   "cell_type": "code",
   "execution_count": 8,
   "id": "210f2baa-4721-48d8-b2d8-0f2151bbc96e",
   "metadata": {},
   "outputs": [],
   "source": [
    "data['funnel_number']=data.groupby(['user_id'])['0_1'].cumsum()+1"
   ]
  },
  {
   "cell_type": "markdown",
   "id": "c898acbb-6380-46b4-b2ff-e54303b1a231",
   "metadata": {},
   "source": [
    "----"
   ]
  },
  {
   "cell_type": "markdown",
   "id": "dcbd5647-eeee-4cc2-b2c1-361bbf7ce06f",
   "metadata": {},
   "source": [
    "Q3"
   ]
  },
  {
   "cell_type": "code",
   "execution_count": 9,
   "id": "be5d6192-ed40-4939-a48e-3f148d7da276",
   "metadata": {},
   "outputs": [],
   "source": [
    "data_copy= data.copy()\n",
    "data_copy.drop_duplicates(subset='user_session', inplace=True)"
   ]
  },
  {
   "cell_type": "code",
   "execution_count": 10,
   "id": "96c4606e-4b6b-495e-96ec-80b76228455f",
   "metadata": {},
   "outputs": [],
   "source": [
    "data_copy['index_in_funnel'] = data_copy.groupby(['user_id','funnel_number'])['user_session'].cumcount() + 1\n",
    "data_copy =data_copy[['user_session','index_in_funnel']]"
   ]
  },
  {
   "cell_type": "code",
   "execution_count": 11,
   "id": "7cd4a762-9bf8-412a-baed-f6c1e0d2d74b",
   "metadata": {},
   "outputs": [],
   "source": [
    "data = pd.merge(data, data_copy, on='user_session')"
   ]
  },
  {
   "cell_type": "markdown",
   "id": "24687acb-fb46-48b2-a406-0719a6fb7767",
   "metadata": {},
   "source": [
    "----"
   ]
  },
  {
   "cell_type": "markdown",
   "id": "413c8eb5-536f-4008-a0a8-a8c0d799652c",
   "metadata": {},
   "source": [
    "Q4"
   ]
  },
  {
   "cell_type": "code",
   "execution_count": 12,
   "id": "fc015fb0-5273-4b67-bcb6-0c206fced009",
   "metadata": {},
   "outputs": [],
   "source": [
    "def numPrice(x):\n",
    "    price = re.findall('\\S*[0-9]\\S*', x)\n",
    "    res = price[0]\n",
    "    return float(res)\n",
    "data['price']=data['price'].apply(numPrice) \n"
   ]
  },
  {
   "cell_type": "markdown",
   "id": "b84fb6d4-1e1d-4ab9-b7b9-53fe4225aec9",
   "metadata": {},
   "source": [
    "------"
   ]
  },
  {
   "cell_type": "markdown",
   "id": "38943121-761d-4155-b22a-09b198421ca8",
   "metadata": {},
   "source": [
    "Q5"
   ]
  },
  {
   "cell_type": "code",
   "execution_count": 13,
   "id": "f2942ed2-c28c-423d-ac4f-5f404584d87b",
   "metadata": {},
   "outputs": [
    {
     "data": {
      "text/plain": [
       "array(['view', 'cart', 'remove_from_cart', 'purchase'], dtype=object)"
      ]
     },
     "execution_count": 13,
     "metadata": {},
     "output_type": "execute_result"
    }
   ],
   "source": [
    "pd.unique(data['event_type'])"
   ]
  },
  {
   "cell_type": "code",
   "execution_count": 14,
   "id": "c5e32699-ebf8-4f39-9f95-49bb5275ce10",
   "metadata": {},
   "outputs": [
    {
     "data": {
      "text/plain": [
       "<AxesSubplot:xlabel='event_type', ylabel='count'>"
      ]
     },
     "execution_count": 14,
     "metadata": {},
     "output_type": "execute_result"
    },
    {
     "data": {
      "image/png": "[encoded data removed]",
      "text/plain": [
       "<Figure size 432x288 with 1 Axes>"
      ]
     },
     "metadata": {
      "needs_background": "light"
     },
     "output_type": "display_data"
    }
   ],
   "source": [
    "sns.countplot(x='event_type', data=data)"
   ]
  },
  {
   "cell_type": "markdown",
   "id": "7469f841-0564-4ad1-861f-02176c25bde5",
   "metadata": {},
   "source": [
    "------"
   ]
  },
  {
   "cell_type": "markdown",
   "id": "82bafd1e-6d95-487f-9170-09a2e7482cbb",
   "metadata": {},
   "source": [
    "Q6"
   ]
  },
  {
   "cell_type": "code",
   "execution_count": 15,
   "id": "e6792dd0-9b90-4eef-a750-8966f46cb650",
   "metadata": {},
   "outputs": [],
   "source": [
    "session_data=data.copy()"
   ]
  },
  {
   "cell_type": "code",
   "execution_count": 16,
   "id": "3dbfebe4-f360-44ca-996b-af9c9a671e17",
   "metadata": {},
   "outputs": [],
   "source": [
    "session_data['number_of_event'] = session_data.groupby(['user_session'])['event_type'].transform('count')"
   ]
  },
  {
   "cell_type": "code",
   "execution_count": 17,
   "id": "621c9895-a672-4953-8b00-4585a3e2cee1",
   "metadata": {},
   "outputs": [],
   "source": [
    "dataG=data.groupby('user_session')\n",
    "dataG_totalTime=dataG['Time'].max()-dataG['Time'].min()\n",
    "session_data = pd.merge(session_data, dataG_totalTime, on='user_session')"
   ]
  },
  {
   "cell_type": "code",
   "execution_count": 18,
   "id": "2f32ed7d-9916-41c8-be7e-b04a132bfd06",
   "metadata": {},
   "outputs": [],
   "source": [
    "data_list= session_data.groupby(['user_session','event_type']).agg({\n",
    "    'product_id': lambda x: list(x)}).reset_index()\n",
    "pt = pd.pivot_table(data_list, index = 'user_session', columns = 'event_type', values = 'product_id',aggfunc='first').reset_index()\n",
    "session_data = pd.merge(session_data, pt, on='user_session')"
   ]
  },
  {
   "cell_type": "code",
   "execution_count": 20,
   "id": "58d523a0-9e2f-4739-ab5c-47d21a6aab58",
   "metadata": {},
   "outputs": [],
   "source": [
    "session_data=session_data[['user_id','user_session','funnel_number','number_of_event','Time_y','view','cart','purchase','index_in_funnel']]   "
   ]
  },
  {
   "cell_type": "code",
   "execution_count": 21,
   "id": "b153a424-edd4-403e-a0cd-3f83a6f1213a",
   "metadata": {},
   "outputs": [],
   "source": [
    "session_data = session_data.rename(columns={'Time_y': 'Total_tinme'})\n"
   ]
  },
  {
   "cell_type": "code",
   "execution_count": 22,
   "id": "d1a6d120-f9fa-4803-af3a-f0f4bef8b159",
   "metadata": {},
   "outputs": [],
   "source": [
    "session_data.drop_duplicates(subset='user_session', inplace=True)"
   ]
  }
 ],
 "metadata": {
  "kernelspec": {
   "display_name": "Python 3 (ipykernel)",
   "language": "python",
   "name": "python3"
  },
  "language_info": {
   "codemirror_mode": {
    "name": "ipython",
    "version": 3
   },
   "file_extension": ".py",
   "mimetype": "text/x-python",
   "name": "python",
   "nbconvert_exporter": "python",
   "pygments_lexer": "ipython3",
   "version": "3.9.6"
  }
 },
 "nbformat": 4,
 "nbformat_minor": 5
}
